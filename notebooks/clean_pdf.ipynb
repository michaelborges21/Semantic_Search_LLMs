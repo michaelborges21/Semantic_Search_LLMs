{
 "cells": [
  {
   "cell_type": "code",
   "execution_count": 1,
   "id": "daa2dccc-4b7d-4053-9d11-3f9511b7fff6",
   "metadata": {},
   "outputs": [],
   "source": [
    "import fitz  # PyMuPDF\n",
    "import os"
   ]
  },
  {
   "cell_type": "code",
   "execution_count": null,
   "id": "9411ca96-a4a3-481b-9aea-0da32d751e16",
   "metadata": {},
   "outputs": [],
   "source": []
  },
  {
   "cell_type": "code",
   "execution_count": 3,
   "id": "a2b7239a-ddce-4141-a5cd-4504a6fe796c",
   "metadata": {},
   "outputs": [],
   "source": [
    "# Função para verificar se uma página é em branco\n",
    "def is_blank_page(page):\n",
    "    text = page.get_text(\"text\").strip()\n",
    "    return len(text) == 0\n"
   ]
  },
  {
   "cell_type": "code",
   "execution_count": 5,
   "id": "66adeb5c-4ec3-4a13-999a-a21a73af3604",
   "metadata": {},
   "outputs": [],
   "source": [
    "# Função para remover capa, folha de rosto, páginas em branco e sumário\n",
    "def process_pdf(pdf_path):\n",
    "    doc = fitz.open(pdf_path)\n",
    "    \n",
    "    # Definir um intervalo para remoção da capa e folha de rosto\n",
    "    # Suponhamos que a capa e folha de rosto sejam as duas primeiras páginas\n",
    "    pages_to_remove = [0, 1]\n",
    "    \n",
    "    # Remover páginas em branco\n",
    "    pages_to_remove.extend([i for i in range(len(doc)) if is_blank_page(doc.load_page(i))])\n",
    "    \n",
    "    # Remover sumário (vamos supor que o sumário está entre as páginas 2 e 5)\n",
    "    pages_to_remove.extend(list(range(2, 6)))\n",
    "    \n",
    "    # Remover páginas duplicadas da lista\n",
    "    pages_to_remove = list(set(pages_to_remove))\n",
    "    \n",
    "    # Ordenar para remover corretamente\n",
    "    pages_to_remove.sort(reverse=True)\n",
    "    \n",
    "    # Extrair o texto das páginas restantes\n",
    "    text_content = \"\"\n",
    "    for i in range(len(doc)):\n",
    "        if i not in pages_to_remove:\n",
    "            page = doc.load_page(i)\n",
    "            text_content += page.get_text(\"text\") + \"\\n\"\n",
    "    \n",
    "    doc.close()\n",
    "    return text_content"
   ]
  },
  {
   "cell_type": "code",
   "execution_count": 7,
   "id": "4e549c70-6bfb-48ac-927d-c342ed0ba704",
   "metadata": {},
   "outputs": [],
   "source": [
    "# Função para processar múltiplos arquivos PDF\n",
    "def process_multiple_pdfs(pdf_folder, output_txt_file):\n",
    "    with open(output_txt_file, 'w', encoding='utf-8') as output_file:\n",
    "        for pdf_file in os.listdir(pdf_folder):\n",
    "            if pdf_file.endswith('.pdf'):\n",
    "                pdf_path = os.path.join(pdf_folder, pdf_file)\n",
    "                print(f\"Processando: {pdf_file}\")\n",
    "                \n",
    "                # Processar o PDF e obter o texto\n",
    "                pdf_text = process_pdf(pdf_path)\n",
    "                \n",
    "                # Escrever no arquivo de texto com uma separação entre os arquivos\n",
    "                output_file.write(f\"--- Começo do arquivo: {pdf_file} ---\\n\\n\")\n",
    "                output_file.write(pdf_text)\n",
    "                output_file.write(f\"\\n--- Fim do arquivo: {pdf_file} ---\\n\\n\")\n"
   ]
  },
  {
   "cell_type": "code",
   "execution_count": 13,
   "id": "15d7f21f-da50-40f3-ab6e-12bcf9cfd523",
   "metadata": {},
   "outputs": [
    {
     "name": "stdout",
     "output_type": "stream",
     "text": [
      "Processando: eBook - Data Mining.pdf\n",
      "Processando: eBook - Desenvolvimento Front-End 2.pdf\n",
      "Processando: eBook - Banco de Dados 1.pdf\n",
      "Processando: eBook - Machine Learning.pdf\n",
      "Processando: eBook - Fundamentos de Data Science.pdf\n",
      "Processando: eBook - Lógica de Programação.pdf\n",
      "Processando: eBook - Teste de Aplicações Web.pdf\n",
      "Processando: eBook - Probabilidade e Estatística.pdf\n",
      "Processando: eBook - Banco de dados 2.pdf\n",
      "Processando: eBook - Redes Neurais.pdf\n",
      "Processando: eBook - Estatística 2.pdf\n",
      "Processando: eBook - Política de Segurança.pdf\n",
      "Processando: eBook - Princípios de Segurança.pdf\n",
      "Processamento concluído!\n"
     ]
    }
   ],
   "source": [
    "# Caminho para a pasta contendo os PDFs\n",
    "pdf_folder = '../ebooks'\n",
    "\n",
    "# Arquivo de saída\n",
    "output_txt_file = 'output_texto.txt'\n",
    "\n",
    "# Processar os PDFs e salvar o conteúdo no arquivo de texto\n",
    "process_multiple_pdfs(pdf_folder, output_txt_file)\n",
    "\n",
    "print(\"Processamento concluído!\")"
   ]
  },
  {
   "cell_type": "code",
   "execution_count": null,
   "id": "cceaacce-a8b7-4adc-8265-2463a2518e3a",
   "metadata": {},
   "outputs": [],
   "source": []
  }
 ],
 "metadata": {
  "kernelspec": {
   "display_name": "Python 3 (ipykernel)",
   "language": "python",
   "name": "python3"
  },
  "language_info": {
   "codemirror_mode": {
    "name": "ipython",
    "version": 3
   },
   "file_extension": ".py",
   "mimetype": "text/x-python",
   "name": "python",
   "nbconvert_exporter": "python",
   "pygments_lexer": "ipython3",
   "version": "3.12.4"
  }
 },
 "nbformat": 4,
 "nbformat_minor": 5
}
